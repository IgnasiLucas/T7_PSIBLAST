{
 "cells": [
  {
   "cell_type": "markdown",
   "id": "ce958635",
   "metadata": {},
   "source": [
    "# Tema 7. PSI-BLAST\n",
    "\n",
    "Cuando se secuencian los mRNA de un organismo y se ensamblan las lecturas, se genera un **transcriptoma**: la colección de secuencias de los genes expresados en los tejidos que formaban parte de la muestra. Muchos transcriptomas ensamblados pueden encontrarse en la *European Nucleotide Archive*. El análisis siguiente típicamente consiste en determinar la función de cada gen. Para ello, los tránscritos codificantes de proteína son traducidos y las secuencias proteicas se comparan con las de las bases de datos. Las bases de datos más útiles para identificar la función de los tránscritos son las que tienen mayor información funcional: Pfam, Swissprot, KEGG, etc.\n",
    "\n",
    "En esta práctica hemos tomado un transcriptoma del escarabajo *Ips typographus*, con número de acceso GACR01000000 en ENA. De los 14689 tránscritos, se han seleccionado 1361 que parecen codificar algún péptido de al menos 150 aminoácidos. Se ha realizado ya un primer BLASTP con las 1361 proteínas hipotéticas, y la mayor parte de ellas han encontrado alguna homología en la base de datos Swissprot.\n",
    "\n",
    "En esta práctica nos vamos a fijar en las 57 de aquellas 1361 proteínas cuyo mejor resultado en el BLASTP contra Swissprot ha obtenido un valor E mayor o igual a 0.1 (pero no mayor que 1). El objetivo es determinar si mediante búsquedas de PSI-BLAST, más sensibles, logramos assignar estas proteïnas a algún grupo de proteínas remotamente parecidas que nos puedan dar alguna pista de su función.\n",
    "\n",
    "El archivo `badHits.fa` es el archivo fasta con las 57 proteínas (hipotéticas) de *Ips typographus* seleccionadas."
   ]
  },
  {
   "cell_type": "code",
   "execution_count": null,
   "id": "2549e1bd",
   "metadata": {},
   "outputs": [],
   "source": [
    "# Si no funciona esto, usa la consola para instalar blast.\n",
    "system2(command = 'conda',\n",
    "        args = c('install', '-c', 'bioconda', '-y', 'blast'),\n",
    "        stdout = TRUE)"
   ]
  },
  {
   "cell_type": "code",
   "execution_count": null,
   "id": "7948c6c4",
   "metadata": {},
   "outputs": [],
   "source": [
    "system2(command = 'tar', args = c('-xzf', 'taxdb.tar.gz'), wait = TRUE)"
   ]
  },
  {
   "cell_type": "code",
   "execution_count": null,
   "id": "b71b2acd",
   "metadata": {},
   "outputs": [],
   "source": [
    "system2('psiblast',\n",
    "        args = c('-query', 'badHits.fa',\n",
    "                 '-db', 'swissprot',\n",
    "                 '-out', 'psiblast.out',\n",
    "                 '-outfmt', '7',\n",
    "                 '-evalue', '1',\n",
    "                 '-inclusion_ethresh', '0.7',\n",
    "                 '-num_iterations', '5'))"
   ]
  },
  {
   "cell_type": "markdown",
   "id": "8975222a",
   "metadata": {},
   "source": [
    "## Ejercicios\n",
    "\n",
    "1. Corrige si hace falta el código anterior y ejecútalo.\n",
    "2. Revisa los resultados y determina si hay proteínas para las que todavía no hemos encontrado homologías.\n",
    "3. Piensa y discute si los resultados del PSI-BLAST nos pueden ayudar a determinar la función de una proteína desconocida, o en qué casos.\n",
    "4. Piensa y comprueba qué pasa (y para qué serviría) canviar los umbrales de valor E, `-evalue` y `-inclusion_ethresh`.\n",
    "\n",
    "## Análisis individual\n",
    "Hemos ejecutado el PSI-BLAST para las 57 proteínas de una vez, y los resultados aparecen todos en el mismo archivo. Sin embargo, puede ser más fácil procesar los resultados individuales de cada *query*. Podemos crear archivos fasta  para proteínas individuales desde R, mediante la función `write.fasta()` del paquete `seqinr`:"
   ]
  },
  {
   "cell_type": "code",
   "execution_count": null,
   "id": "7f6a2508",
   "metadata": {},
   "outputs": [],
   "source": [
    "library(seqinr)\n",
    "library(Biostrings)\n",
    "\n",
    "Las57 <- read.fasta('badHits.fa')\n",
    "names(Las57)\n",
    "write.fasta(Las57[['GACR01008940.1']],\n",
    "            names = 'GACR01008940.1',\n",
    "            file.out = 'GACR01008940.fa')"
   ]
  },
  {
   "cell_type": "markdown",
   "id": "95a790de",
   "metadata": {},
   "source": [
    "El PSI-BLAST elabora, después de cada ronda de búsqueda, una *position-specific scoring matrix* (PSSM), que resume la información de haber alineado las proteínas homólogas encontradas. De esta forma, la búsqueda es más sensible que en un BLASTP convencional. Podemos guardar la PSSM de la última ronda de PSI-BLAST para realizar con ella una búsqueda manual después:"
   ]
  },
  {
   "cell_type": "code",
   "execution_count": null,
   "id": "2fc4279d",
   "metadata": {},
   "outputs": [],
   "source": [
    "system2('psiblast',\n",
    "        args = c('-query', 'GACR01008940.fa',\n",
    "                 '-db', 'swissprot',\n",
    "                 '-out', 'z1.out',\n",
    "                 '-outfmt', '7',\n",
    "                 '-evalue', '1',\n",
    "                 '-inclusion_ethresh', '0.7',\n",
    "                 '-num_iterations', '4',\n",
    "                 '-save_pssm_after_last_round',\n",
    "                 '-out_pssm', 'GACR01008940.pssm'))\n",
    "\n"
   ]
  },
  {
   "cell_type": "markdown",
   "id": "0ccf21b4",
   "metadata": {},
   "source": [
    "Comprueba que ha aparecido el archivo `GACR01008940.pssm`, que ahora podemos usar como *query*:"
   ]
  },
  {
   "cell_type": "code",
   "execution_count": null,
   "id": "edc9ebd9",
   "metadata": {},
   "outputs": [],
   "source": [
    "system2('psiblast',\n",
    "        args = c('-in_pssm', 'GACR01008940.pssm',\n",
    "                 '-db', 'swissprot',\n",
    "                 '-out', 'last.out',\n",
    "                 '-outfmt', '7',\n",
    "                 '-evalue', '1'))"
   ]
  },
  {
   "cell_type": "markdown",
   "id": "b1ce90e4",
   "metadata": {},
   "source": [
    "Una ventaja de realizar un último paso de PSI-BLAST con la PSSM es que obtenemos una tabla de resultados única, y no una para cada iteración. Esto facilita cargar los resultados finales en la sesión de R:"
   ]
  },
  {
   "cell_type": "code",
   "execution_count": null,
   "id": "89516929",
   "metadata": {},
   "outputs": [],
   "source": [
    "resultado <- read.table('last.out',\n",
    "                        col.names = c('query','subject','identity','length','mismatch',\n",
    "                                      'gaps','qstart','qend','sstart','send','evalue','bitscore'),\n",
    "                        stringsAsFactors = FALSE)\n",
    "plot(resultado$evalue, type = 'b', log = 'y')\n"
   ]
  },
  {
   "cell_type": "code",
   "execution_count": null,
   "id": "989e4b01",
   "metadata": {},
   "outputs": [],
   "source": [
    "plot(c(1,380), range(resultado$evalue), type = 'n', ylab = 'Valor E', xlab = 'Aminoácidos', log = 'y')\n",
    "segments(resultado$qstart, resultado$evalue, resultado$qend, resultado$evalue)"
   ]
  },
  {
   "cell_type": "markdown",
   "id": "56f16a47",
   "metadata": {},
   "source": [
    "## Ejercicios\n",
    "\n",
    "1. Si queda tiempo, repite este tipo de análisis para las proteínas que te interesen.\n",
    "2. ¿Cómo podrías repetir el proceso de forma automática con otras proteínas?"
   ]
  },
  {
   "cell_type": "code",
   "execution_count": null,
   "id": "07cc5398",
   "metadata": {},
   "outputs": [],
   "source": []
  }
 ],
 "metadata": {
  "kernelspec": {
   "display_name": "R",
   "language": "R",
   "name": "ir"
  },
  "language_info": {
   "codemirror_mode": "r",
   "file_extension": ".r",
   "mimetype": "text/x-r-source",
   "name": "R",
   "pygments_lexer": "r",
   "version": "4.1.3"
  }
 },
 "nbformat": 4,
 "nbformat_minor": 5
}
