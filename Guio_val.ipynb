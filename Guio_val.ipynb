{
 "cells": [
  {
   "cell_type": "markdown",
   "id": "ce958635",
   "metadata": {},
   "source": [
    "# Tema 7. PSI-BLAST\n",
    "\n",
    "Quan se seqüencien els mRNA d'un organisme, es genera un **transcriptoma**: la col·lecció de seqüències dels gens expressats als teixits que formaven part de la mostra. A la base de dades *European Nucleotide Archive* (ENA) podem trobar molts transcriptomes assemblats. Típicament, després d'assemblar un transcriptoma cal determinar la funció de cada trànscrit. Els trànscrits codificants de proteïnes són traduïts i les seqüències proteiques es comparen amb les de les bases de dades. Les bases de dades més útils per identificar la funció d'aquests trànscrits són aquelles que tenen major quantitat d'informació funcional: Pfam, Swissprot, KEGG, etc.\n",
    "\n",
    "Per a aquesta pràctica, hem pres un transcriptoma de l'escarabat *Ips typographus*, amb nombre d'accés GACR01000000 en ENA. Dels 14689 trànscrits, se n'han seleccionat 1361 que semblen codificar alguna proteïna d'almenys 150 aminoàcids. S'ha realitzat ja un primer BLASTP amb les 1361 proteïnes predites, i la major part d'elles han trobat alguna homologia a la base de dades Swissprot.\n",
    "\n",
    "Ara ens fixarem en les 57 d'aquelles 1361 proteïnes el millor resultat en BLASTP de les quals havia obtingut un valor E major que 0.1 (però no major que 1). És a dir, són proteïnes que se semblen poc a les ja presents a la base de dades Swissprot. El nostre objectiu serà determinar si mitjançant cerques de PSI-BLAST, més sensibles que el BLASTP, podem assignar estes proteïnes a algun grup de proteïnes relacionades remotament (o parcial), que ens puguen donar alguna pista de la seua funció.\n",
    "\n",
    "L'arxiu `badHits.fa` és on es troben les 57 proteïnes predites d'*Ips typographus* seleccionades."
   ]
  },
  {
   "cell_type": "code",
   "execution_count": null,
   "id": "2549e1bd",
   "metadata": {},
   "outputs": [],
   "source": [
    "# Si no açò no funciona, utilitza la consola per instal·lar blast.\n",
    "system2(command = 'conda',\n",
    "        args = c('install', '-c', 'bioconda', '-y', 'blast'),\n",
    "        stdout = TRUE)"
   ]
  },
  {
   "cell_type": "code",
   "execution_count": null,
   "id": "7948c6c4",
   "metadata": {},
   "outputs": [],
   "source": [
    "system2(command = 'tar', args = c('-xzf', 'taxdb.tar.gz'), wait = TRUE)"
   ]
  },
  {
   "cell_type": "code",
   "execution_count": null,
   "id": "b71b2acd",
   "metadata": {},
   "outputs": [],
   "source": [
    "system2('psiblast',\n",
    "        args = c('-query', 'badHits.fa',\n",
    "                 '-db', 'swissprot',\n",
    "                 '-out', 'psiblast.out',\n",
    "                 '-outfmt', '7',\n",
    "                 '-evalue', '1',\n",
    "                 '-inclusion_ethresh', '0.7',\n",
    "                 '-num_iterations', '5'))"
   ]
  },
  {
   "cell_type": "markdown",
   "id": "8975222a",
   "metadata": {},
   "source": [
    "## Exercicis\n",
    "\n",
    "1. Corregeix si cal el codi anterior i executa'l.\n",
    "2. Revisa els resultats i determina si hi ha proteïnes per a les quals encara no hem trobat homoglogies.\n",
    "3. Pensa i discuteix si els resultats del PSI-BLAST ens poden ajudar a determinar la funció d'una proteïna desconeguda, i en quins casos.\n",
    "4. Pensa i comprova què passa (i per a què serviria) canviar els llindar de valor E, `-evalue` i `-inclusion_ethresh`.\n",
    "\n",
    "## Anàlisi individual\n",
    "\n",
    "Hem executat el PSI-BLAST per a les 57 proteïnes d'una vegada, i els resultats han anat a parar tots al mateix arxiu. Tanmateix, podria ser més fàcil o convenient processar els resultats individuals de cada *query*. Una possibilitat és crear un arxiu fasta diferent per a cada una de les 57 proteïnes que estem analitzant. En R podem utilitzar la funció `write.fasta()` del paquet `seqinr`:"
   ]
  },
  {
   "cell_type": "code",
   "execution_count": null,
   "id": "7f6a2508",
   "metadata": {},
   "outputs": [],
   "source": [
    "library(seqinr)\n",
    "library(Biostrings)\n",
    "\n",
    "Les57 <- read.fasta('badHits.fa')\n",
    "names(Les57)\n",
    "write.fasta(Les57[['GACR01008940.1']],\n",
    "            names = 'GACR01008940.1',\n",
    "            file.out = 'GACR01008940.fa')"
   ]
  },
  {
   "cell_type": "markdown",
   "id": "95a790de",
   "metadata": {},
   "source": [
    "El PSI-BLAST elabora, després de cada iteració, una *position-specific scoring matrix* (PSSM), que resumeix la informació de l'alineament de les proteïnes homòlogues trobades. D'aquesta forma, la cerca és més sensible que amb un BLASTP convencional. Podem guardar la PSSM de l'última ronda de PSI-BLAST per realitzar amb ella una cerca addicional després:"
   ]
  },
  {
   "cell_type": "code",
   "execution_count": null,
   "id": "2fc4279d",
   "metadata": {},
   "outputs": [],
   "source": [
    "system2('psiblast',\n",
    "        args = c('-query', 'GACR01008940.fa',\n",
    "                 '-db', 'swissprot',\n",
    "                 '-out', 'z1.out',\n",
    "                 '-outfmt', '7',\n",
    "                 '-evalue', '1',\n",
    "                 '-inclusion_ethresh', '0.7',\n",
    "                 '-num_iterations', '4',\n",
    "                 '-save_pssm_after_last_round',\n",
    "                 '-out_pssm', 'GACR01008940.pssm'))\n",
    "\n"
   ]
  },
  {
   "cell_type": "markdown",
   "id": "0ccf21b4",
   "metadata": {},
   "source": [
    "Comprova que ha aparegut l'arxiu `GACR01008940.pssm`, el qual podem utilitzar ara com a *query*:"
   ]
  },
  {
   "cell_type": "code",
   "execution_count": null,
   "id": "edc9ebd9",
   "metadata": {},
   "outputs": [],
   "source": [
    "system2('psiblast',\n",
    "        args = c('-in_pssm', 'GACR01008940.pssm',\n",
    "                 '-db', 'swissprot',\n",
    "                 '-out', 'last.out',\n",
    "                 '-outfmt', '7',\n",
    "                 '-evalue', '1'))"
   ]
  },
  {
   "cell_type": "markdown",
   "id": "b1ce90e4",
   "metadata": {},
   "source": [
    "Un avantatge de realitzar l'últim pas de PSI-BLAST amb la PSSM és que obtenim una única taula de resultats, no una per cada iteració. Això facilita carregar els resultats finals en la sessió de R:"
   ]
  },
  {
   "cell_type": "code",
   "execution_count": null,
   "id": "89516929",
   "metadata": {},
   "outputs": [],
   "source": [
    "resultat <- read.table('last.out',\n",
    "                        col.names = c('query','subject','identity','length','mismatch',\n",
    "                                      'gaps','qstart','qend','sstart','send','evalue','bitscore'),\n",
    "                        stringsAsFactors = FALSE)\n",
    "plot(resultat$evalue, type = 'b', log = 'y')\n"
   ]
  },
  {
   "cell_type": "code",
   "execution_count": null,
   "id": "989e4b01",
   "metadata": {},
   "outputs": [],
   "source": [
    "plot(c(1,380), range(resultat$evalue), type = 'n', ylab = 'Valor E', xlab = 'Aminoácidos', log = 'y')\n",
    "segments(resultat$qstart, resultat$evalue, resultat$qend, resultat$evalue)"
   ]
  },
  {
   "cell_type": "markdown",
   "id": "56f16a47",
   "metadata": {},
   "source": [
    "## Exercicis\n",
    "\n",
    "1. Si queda temps, repeteix aquesta última anàlisi per a qualsevol altra proteïna de les 57 originals.\n",
    "2. Com ho faries per repetir el procés de forma automàtica amb totes les proteïnes?"
   ]
  },
  {
   "cell_type": "code",
   "execution_count": null,
   "id": "07cc5398",
   "metadata": {},
   "outputs": [],
   "source": []
  }
 ],
 "metadata": {
  "kernelspec": {
   "display_name": "R",
   "language": "R",
   "name": "ir"
  },
  "language_info": {
   "codemirror_mode": "r",
   "file_extension": ".r",
   "mimetype": "text/x-r-source",
   "name": "R",
   "pygments_lexer": "r",
   "version": "4.1.3"
  }
 },
 "nbformat": 4,
 "nbformat_minor": 5
}
